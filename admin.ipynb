{
 "cells": [
  {
   "cell_type": "markdown",
   "metadata": {},
   "source": [
    "### Deploy Lambda To AWS\n",
    "1. develop lambda\n",
    "2. add required module to package folder\n",
    "3. zip lambda, supporting py files, package\n",
    "4. deploy lambda\n",
    "5. invoke lambda "
   ]
  },
  {
   "cell_type": "code",
   "execution_count": 1,
   "metadata": {},
   "outputs": [],
   "source": [
    "import util\n",
    "import aws \n",
    "from archive import zip_files"
   ]
  },
  {
   "cell_type": "code",
   "execution_count": 33,
   "metadata": {},
   "outputs": [
    {
     "name": "stdout",
     "output_type": "stream",
     "text": [
      "3 FILES AND 258 ARCHIVED\n"
     ]
    },
    {
     "data": {
      "text/plain": [
       "'3 FILES AND 258 ARCHIVED'"
      ]
     },
     "execution_count": 33,
     "metadata": {},
     "output_type": "execute_result"
    }
   ],
   "source": [
    "#3 archive package and files \n",
    "\n",
    "files = [ \n",
    "    \"aws.py\",\n",
    "    \"util.py\",\n",
    "    \"github_function.py\",\n",
    "    \"package\"\n",
    "]\n",
    "\n",
    "zip_files(files, \"github_function.zip\")"
   ]
  },
  {
   "cell_type": "code",
   "execution_count": 2,
   "metadata": {},
   "outputs": [
    {
     "name": "stdout",
     "output_type": "stream",
     "text": [
      "(1, ('LambdaDev', 'arn:aws:iam::696056865313:role/LambdaDev'))\n"
     ]
    }
   ],
   "source": [
    "# deploy \n",
    "\n",
    "aws = aws.Aws(\n",
    "    util.get_s3_client()\n",
    "    ,util.get_s3_resource()\n",
    "    ,util.get_iam_client()\n",
    "    ,util.get_lambda_client()\n",
    "    )\n",
    "r='LambdaDev'    \n",
    "role = aws.validate_iam_role(r)\n",
    "print(role)\n",
    "\n"
   ]
  },
  {
   "cell_type": "code",
   "execution_count": 3,
   "metadata": {},
   "outputs": [
    {
     "name": "stdout",
     "output_type": "stream",
     "text": [
      "arn:aws:iam::696056865313:role/LambdaDev\n"
     ]
    }
   ],
   "source": [
    "r='LambdaDev'\n",
    "role = aws.validate_iam_role(r)\n",
    "print(role[1][1])"
   ]
  },
  {
   "cell_type": "code",
   "execution_count": 36,
   "metadata": {},
   "outputs": [
    {
     "name": "stdout",
     "output_type": "stream",
     "text": [
      "ROLE:::::LambdaDev\n",
      "LAMBDA CREATED:\n",
      "Function Name: upload_handler\n",
      "Function Arn: arn:aws:lambda:us-east-1:696056865313:function:upload_handler\n"
     ]
    }
   ],
   "source": [
    "\"\"\"\n",
    "deploys zip file to aws as a lambda  \n",
    "    Parameters\n",
    "        role (str) : the aws lambda arn name\n",
    "        file (str) : the zip of the lambda file that will be deployed THIS WILL ALSO BE THE PREFIX FOR THE FUNCTION SO NAME APPROPRIATELY\n",
    "        func_name (str) : the name of the function \n",
    "        description (str) : description of the lambda functionality \n",
    "        env (str) : environment variables available to the lambda \n",
    "    ----------\n",
    "\n",
    "    Returns\n",
    "        str : confirmation of deployment  \n",
    "    ----------\n",
    "\"\"\"  \n",
    "env = {\n",
    "    'Variables' : {\n",
    "        'test1' :'env_test_1',\n",
    "        'Environment' : 'Prod'\n",
    "    }\n",
    "}\n",
    "\n",
    "description = 'Retreive and upload file to s3 bucket'\n",
    "\n",
    "aws.deploy_function(role='LambdaDev', file='github_function', func_name='upload_handler', description=description, env=env)\n",
    "\n",
    "\n"
   ]
  },
  {
   "cell_type": "code",
   "execution_count": 39,
   "metadata": {},
   "outputs": [
    {
     "data": {
      "text/plain": [
       "'{\"errorMessage\": \"Unable to import module \\'github_function\\': No module named \\'dotenv\\'\", \"errorType\": \"Runtime.ImportModuleError\", \"requestId\": \"1e2dd38c-3794-4533-b9ce-61d6bdf1874c\", \"stackTrace\": []}'"
      ]
     },
     "execution_count": 39,
     "metadata": {},
     "output_type": "execute_result"
    }
   ],
   "source": [
    "# Invoke\n",
    "\n",
    "import aws \n",
    "\n",
    "# invoke with no variables\n",
    "test_event = dict()\n",
    "\n",
    "# invoke with variables \n",
    "test_events = {\n",
    "\"bucket_name\" : \"data-eng-github-44405df4\", \n",
    "\"file_name\" : \"2022-01-03-0.json.gz\",\n",
    "\"object_name\" : \"landing/2022-01-03-0.json.gz\",\n",
    "\"url\" : \"https://data.gharchive.org\"\n",
    "}\n",
    "\n",
    "\n",
    "name = 'upload_handler'\n",
    "\n",
    "boto = aws.Aws(\n",
    "    util.get_s3_client()\n",
    "    ,util.get_s3_resource()\n",
    "    ,util.get_iam_client()\n",
    "    ,util.get_lambda_client()\n",
    "    )\n",
    "\n",
    "boto.invoke_lambda(name = name , test_event = test_events)\n"
   ]
  },
  {
   "cell_type": "code",
   "execution_count": null,
   "metadata": {},
   "outputs": [],
   "source": []
  }
 ],
 "metadata": {
  "kernelspec": {
   "display_name": "Python 3.10.5 ('github-download-M4FVPfts')",
   "language": "python",
   "name": "python3"
  },
  "language_info": {
   "codemirror_mode": {
    "name": "ipython",
    "version": 3
   },
   "file_extension": ".py",
   "mimetype": "text/x-python",
   "name": "python",
   "nbconvert_exporter": "python",
   "pygments_lexer": "ipython3",
   "version": "3.10.5"
  },
  "orig_nbformat": 4,
  "vscode": {
   "interpreter": {
    "hash": "e0e4cae129bd22546391a244d4a48805897c35c01669aa2b47583faa0bdc98f8"
   }
  }
 },
 "nbformat": 4,
 "nbformat_minor": 2
}
